{
 "cells": [
  {
   "cell_type": "markdown",
   "id": "55a8deb2",
   "metadata": {},
   "source": [
    "## How long would it take to collect a complete a deck of cards?"
   ]
  },
  {
   "cell_type": "markdown",
   "id": "066c3581",
   "metadata": {},
   "source": [
    "### Parameters: \n",
    "#### 1. The deck does is complete at 52 unique cards (no jokers) \n",
    "#### 2. Cards must be mostly clean and mostly complete\n",
    "#### 3. Only one card can be picked up from a source\n",
    "#### 4. Walking data comes from my own phone and walking habits"
   ]
  },
  {
   "cell_type": "markdown",
   "id": "fda5bc24",
   "metadata": {},
   "source": [
    "### Data Log:\n",
    "#### 1. Data exported from my health app into a XML file\n",
    "#### 2. Python used to create csv files from the XML file"
   ]
  },
  {
   "cell_type": "code",
   "execution_count": 90,
   "id": "807b93f5",
   "metadata": {},
   "outputs": [
    {
     "name": "stdout",
     "output_type": "stream",
     "text": [
      "Reading data from 2023_08_20_Walking_Data.xml . . . done\n",
      "Unexpected node of type ExportDate.\n",
      "\n",
      "Tags:\n",
      "ActivitySummary: 286\n",
      "ExportDate: 1\n",
      "Me: 1\n",
      "Record: 359547\n",
      "\n",
      "Fields:\n",
      "HKCharacteristicTypeIdentifierBiologicalSex: 1\n",
      "HKCharacteristicTypeIdentifierBloodType: 1\n",
      "HKCharacteristicTypeIdentifierCardioFitnessMedicationsUse: 1\n",
      "HKCharacteristicTypeIdentifierDateOfBirth: 1\n",
      "HKCharacteristicTypeIdentifierFitzpatrickSkinType: 1\n",
      "activeEnergyBurned: 286\n",
      "activeEnergyBurnedGoal: 286\n",
      "activeEnergyBurnedUnit: 286\n",
      "appleExerciseTime: 286\n",
      "appleExerciseTimeGoal: 286\n",
      "appleMoveTime: 286\n",
      "appleMoveTimeGoal: 286\n",
      "appleStandHours: 286\n",
      "appleStandHoursGoal: 286\n",
      "creationDate: 359547\n",
      "dateComponents: 286\n",
      "device: 357942\n",
      "endDate: 359547\n",
      "sourceName: 359547\n",
      "sourceVersion: 359341\n",
      "startDate: 359547\n",
      "type: 359547\n",
      "unit: 357924\n",
      "value: 359548\n",
      "\n",
      "Record types:\n",
      "ActiveEnergyBurned: 11020\n",
      "AppleExerciseTime: 21\n",
      "AppleStandHour: 32\n",
      "AppleStandTime: 45\n",
      "AppleWalkingSteadiness: 97\n",
      "BasalEnergyBurned: 16215\n",
      "BodyMass: 3\n",
      "BodyMassIndex: 2\n",
      "DistanceWalkingRunning: 110391\n",
      "FlightsClimbed: 12951\n",
      "HKDataTypeSleepDurationGoal: 4\n",
      "HeadphoneAudioExposure: 8648\n",
      "HeartRate: 622\n",
      "HeartRateVariabilitySDNN: 10\n",
      "Height: 3\n",
      "RestingHeartRate: 2\n",
      "SleepAnalysis: 1591\n",
      "StepCount: 107903\n",
      "WalkingAsymmetryPercentage: 9748\n",
      "WalkingDoubleSupportPercentage: 20312\n",
      "WalkingHeartRateAverage: 3\n",
      "WalkingSpeed: 29962\n",
      "WalkingStepLength: 29962\n",
      "\n",
      "Opening C:\\Users\\maxar\\Downloads\\BodyMassIndex.csv for writing\n",
      "Opening C:\\Users\\maxar\\Downloads\\Height.csv for writing\n",
      "Opening C:\\Users\\maxar\\Downloads\\BodyMass.csv for writing\n",
      "Opening C:\\Users\\maxar\\Downloads\\HeartRate.csv for writing\n",
      "Opening C:\\Users\\maxar\\Downloads\\StepCount.csv for writing\n",
      "Opening C:\\Users\\maxar\\Downloads\\DistanceWalkingRunning.csv for writing\n",
      "Opening C:\\Users\\maxar\\Downloads\\BasalEnergyBurned.csv for writing\n",
      "Opening C:\\Users\\maxar\\Downloads\\ActiveEnergyBurned.csv for writing\n",
      "Opening C:\\Users\\maxar\\Downloads\\FlightsClimbed.csv for writing\n",
      "Opening C:\\Users\\maxar\\Downloads\\AppleExerciseTime.csv for writing\n",
      "Opening C:\\Users\\maxar\\Downloads\\RestingHeartRate.csv for writing\n",
      "Opening C:\\Users\\maxar\\Downloads\\WalkingHeartRateAverage.csv for writing\n",
      "Opening C:\\Users\\maxar\\Downloads\\HeadphoneAudioExposure.csv for writing\n",
      "Opening C:\\Users\\maxar\\Downloads\\WalkingDoubleSupportPercentage.csv for writing\n",
      "Opening C:\\Users\\maxar\\Downloads\\AppleStandTime.csv for writing\n",
      "Opening C:\\Users\\maxar\\Downloads\\WalkingSpeed.csv for writing\n",
      "Opening C:\\Users\\maxar\\Downloads\\WalkingStepLength.csv for writing\n",
      "Opening C:\\Users\\maxar\\Downloads\\WalkingAsymmetryPercentage.csv for writing\n",
      "Opening C:\\Users\\maxar\\Downloads\\HKDataTypeSleepDurationGoal.csv for writing\n",
      "Opening C:\\Users\\maxar\\Downloads\\AppleWalkingSteadiness.csv for writing\n",
      "Opening C:\\Users\\maxar\\Downloads\\SleepAnalysis.csv for writing\n",
      "Opening C:\\Users\\maxar\\Downloads\\AppleStandHour.csv for writing\n",
      "Opening C:\\Users\\maxar\\Downloads\\HeartRateVariabilitySDNN.csv for writing\n",
      "Opening C:\\Users\\maxar\\Downloads\\ActivitySummary.csv for writing\n",
      "Written BodyMassIndex data.\n",
      "Written Height data.\n",
      "Written BodyMass data.\n",
      "Written HeartRate data.\n",
      "Written StepCount data.\n",
      "Written DistanceWalkingRunning data.\n",
      "Written BasalEnergyBurned data.\n",
      "Written ActiveEnergyBurned data.\n",
      "Written FlightsClimbed data.\n",
      "Written AppleExerciseTime data.\n",
      "Written RestingHeartRate data.\n",
      "Written WalkingHeartRateAverage data.\n",
      "Written HeadphoneAudioExposure data.\n",
      "Written WalkingDoubleSupportPercentage data.\n",
      "Written AppleStandTime data.\n",
      "Written WalkingSpeed data.\n",
      "Written WalkingStepLength data.\n",
      "Written WalkingAsymmetryPercentage data.\n",
      "Written HKDataTypeSleepDurationGoal data.\n",
      "Written AppleWalkingSteadiness data.\n",
      "Written SleepAnalysis data.\n",
      "Written AppleStandHour data.\n",
      "Written HeartRateVariabilitySDNN data.\n",
      "Written ActivitySummary data.\n"
     ]
    }
   ],
   "source": [
    "#'apple-health-data-parser' found on Github from Nicholas J. Radcliffe\n",
    "%run -i \"apple-health-data-parser\" \"2023_08_20_Walking_Data.xml\""
   ]
  },
  {
   "cell_type": "markdown",
   "id": "b0110361",
   "metadata": {},
   "source": [
    "#### 2. Clean the data on SQLite\n",
    "_files found in portfolio/Card_Steps_Project_"
   ]
  },
  {
   "cell_type": "code",
   "execution_count": null,
   "id": "852b045a",
   "metadata": {},
   "outputs": [],
   "source": []
  }
 ],
 "metadata": {
  "kernelspec": {
   "display_name": "Python 3 (ipykernel)",
   "language": "python",
   "name": "python3"
  },
  "language_info": {
   "codemirror_mode": {
    "name": "ipython",
    "version": 3
   },
   "file_extension": ".py",
   "mimetype": "text/x-python",
   "name": "python",
   "nbconvert_exporter": "python",
   "pygments_lexer": "ipython3",
   "version": "3.9.7"
  }
 },
 "nbformat": 4,
 "nbformat_minor": 5
},
